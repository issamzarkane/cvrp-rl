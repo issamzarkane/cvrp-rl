{
 "cells": [
  {
   "cell_type": "code",
   "execution_count": null,
   "metadata": {},
   "outputs": [],
   "source": [
    "!pip install importlib-metadata"
   ]
  },
  {
   "cell_type": "code",
   "execution_count": null,
   "metadata": {},
   "outputs": [],
   "source": [
    "from cvrp import CVRP\n",
    "from state import State\n",
    "from action import Action\n",
    "from utils import transition, cost"
   ]
  },
  {
   "cell_type": "code",
   "execution_count": null,
   "metadata": {},
   "outputs": [],
   "source": [
    "cities = [[0, 0], [1, 2], [3, 5], [6, 8]]  # Depot at [0,0], and three cities\n",
    "demands = [0, 2, 3, 1]  # Depot demand is 0, other cities have demand\n",
    "capacity = 5"
   ]
  },
  {
   "cell_type": "code",
   "execution_count": null,
   "metadata": {},
   "outputs": [],
   "source": [
    "cvrp_instance = CVRP(cities=cities, demands=demands, capacity=capacity)\n",
    "initial_state = State(cvrp_instance)"
   ]
  },
  {
   "cell_type": "code",
   "execution_count": null,
   "metadata": {},
   "outputs": [],
   "source": [
    "cvrp_instance.distance_matrix"
   ]
  },
  {
   "cell_type": "code",
   "execution_count": null,
   "metadata": {},
   "outputs": [],
   "source": [
    "action_generator = Action(cvrp_instance, initial_state)"
   ]
  },
  {
   "cell_type": "code",
   "execution_count": null,
   "metadata": {},
   "outputs": [],
   "source": [
    "feasible_actions = action_generator.get_all_actions()\n",
    "print(\"\\nFeasible Actions from Initial State:\")\n",
    "for route in feasible_actions:\n",
    "    print(route)"
   ]
  },
  {
   "cell_type": "code",
   "execution_count": null,
   "metadata": {},
   "outputs": [],
   "source": [
    "example_action = feasible_actions[0]  # Pick the first feasible action\n",
    "new_state = transition(initial_state, example_action)"
   ]
  },
  {
   "cell_type": "code",
   "execution_count": null,
   "metadata": {},
   "outputs": [],
   "source": [
    "if new_state:\n",
    "    print(\"\\nNew State (Visited Status):\", new_state.visited)\n",
    "    route_cost = cost(cvrp_instance, example_action)\n",
    "    print(f\"Cost of route {example_action}: {route_cost}\")\n",
    "else:\n",
    "    print(\"The chosen action revisits cities and is therefore invalid.\")"
   ]
  },
  {
   "cell_type": "code",
   "execution_count": null,
   "metadata": {},
   "outputs": [],
   "source": [
    "new_action_generator = Action(cvrp_instance, new_state)\n",
    "feasible_actions = new_action_generator.get_all_actions()\n",
    "print(\"\\nFeasible Actions from new State:\")\n",
    "for route in feasible_actions:\n",
    "    print(route)"
   ]
  },
  {
   "cell_type": "code",
   "execution_count": null,
   "metadata": {},
   "outputs": [],
   "source": [
    "example_action = feasible_actions[2]\n",
    "new_state = transition(new_state, example_action)\n",
    "if new_state:\n",
    "    print(\"\\nNew State (Visited Status):\", new_state.visited)\n",
    "    route_cost = cost(cvrp_instance, example_action)\n",
    "    print(f\"Cost of route {example_action}: {route_cost}\")\n",
    "else:\n",
    "    print(\"The chosen action revisits cities and is therefore invalid.\")"
   ]
  },
  {
   "cell_type": "code",
   "execution_count": null,
   "metadata": {},
   "outputs": [],
   "source": [
    "from policy import policy_evaluation_with_milp"
   ]
  },
  {
   "cell_type": "markdown",
   "metadata": {},
   "source": [
    "## Test 2"
   ]
  },
  {
   "cell_type": "code",
   "execution_count": null,
   "metadata": {},
   "outputs": [],
   "source": [
    "cities = [(2, 3), (5, 8), (1, 9), (7, 3)]\n",
    "demands = [0, 2, 3, 4, 5]\n",
    "capacity = 10\n",
    "cvrp_instance = CVRP(cities=[(0, 0)] + cities, demands=demands, capacity=capacity)\n"
   ]
  },
  {
   "cell_type": "code",
   "execution_count": null,
   "metadata": {},
   "outputs": [],
   "source": [
    "initial_state = State(cvrp_instance)\n",
    "print(\"Initial State (visited):\", initial_state.visited)\n"
   ]
  },
  {
   "cell_type": "code",
   "execution_count": null,
   "metadata": {},
   "outputs": [],
   "source": [
    "action_generator = Action(cvrp_instance, initial_state)\n",
    "feasible_actions = action_generator.get_all_actions()\n",
    "print(\"Feasible Actions:\", feasible_actions)"
   ]
  },
  {
   "cell_type": "code",
   "execution_count": null,
   "metadata": {},
   "outputs": [],
   "source": [
    "from policy import ValueNetwork\n",
    "from utils import solve_milp_with_value_function"
   ]
  },
  {
   "cell_type": "code",
   "execution_count": null,
   "metadata": {},
   "outputs": [],
   "source": [
    "value_network = ValueNetwork(input_size=len(initial_state.encode_state()), hidden_dim=16)\n",
    "route = solve_milp_with_value_function(cvrp_instance, initial_state, value_network)\n",
    "print(\"MILP Optimal Route:\", route)"
   ]
  },
  {
   "cell_type": "markdown",
   "metadata": {},
   "source": [
    "## Testing OR-tools\n"
   ]
  },
  {
   "cell_type": "code",
   "execution_count": 1,
   "metadata": {},
   "outputs": [],
   "source": [
    "from cvrp import CVRP\n",
    "from ORtools import ORToolsSolver\n",
    "from parser import parse_cvrplib"
   ]
  },
  {
   "cell_type": "code",
   "execution_count": 2,
   "metadata": {},
   "outputs": [],
   "source": [
    "file_path = \"C:/Users/issam/OneDrive/Desktop/phd/Vrp-Set-A/A/A-n32-k5.vrp\"\n",
    "depot, cities, demands, capacity, num_vehicles = parse_cvrplib(file_path)"
   ]
  },
  {
   "cell_type": "code",
   "execution_count": 3,
   "metadata": {},
   "outputs": [],
   "source": [
    "cvrp_instance = CVRP(cities=[cities[depot]] + cities, demands=[0] + demands, capacity=capacity, num_vehicles=num_vehicles ,depot_index=0)"
   ]
  },
  {
   "cell_type": "code",
   "execution_count": 4,
   "metadata": {},
   "outputs": [
    {
     "name": "stdout",
     "output_type": "stream",
     "text": [
      "Starting solve...\n",
      "Solution found: True\n",
      "Vehicle 0 route cost: 38.8329756778952\n",
      "Vehicle 1 route cost: 448.7855540317404\n",
      "Vehicle 2 route cost: 418.44835371064516\n",
      "Vehicle 3 route cost: 490.8149633906056\n",
      "Vehicle 4 route cost: 660.9976624448711\n",
      "Routes: [[0, 2, 0], [0, 10, 8, 7, 6, 5, 4, 3, 0], [0, 17, 16, 14, 13, 12, 9, 0], [0, 25, 22, 21, 20, 18, 15, 11, 0], [0, 32, 31, 30, 29, 28, 27, 26, 24, 23, 19, 1, 0]]\n",
      "Cost: 2057.8795092557575\n"
     ]
    }
   ],
   "source": [
    "ortools_solver = ORToolsSolver(cvrp_instance)\n",
    "routes, total_cost = ortools_solver.solve()"
   ]
  },
  {
   "cell_type": "code",
   "execution_count": null,
   "metadata": {},
   "outputs": [],
   "source": [
    "total_cost "
   ]
  },
  {
   "cell_type": "code",
   "execution_count": 5,
   "metadata": {},
   "outputs": [
    {
     "name": "stdout",
     "output_type": "stream",
     "text": [
      "\n",
      "Routes:\n",
      "Vehicle 0: [0, 2, 0] (demand: 19/100)\n",
      "Vehicle 1: [0, 10, 8, 7, 6, 5, 4, 3, 0] (demand: 97/100)\n",
      "Vehicle 2: [0, 17, 16, 14, 13, 12, 9, 0] (demand: 97/100)\n",
      "Vehicle 3: [0, 25, 22, 21, 20, 18, 15, 11, 0] (demand: 98/100)\n",
      "Vehicle 4: [0, 32, 31, 30, 29, 28, 27, 26, 24, 23, 19, 1, 0] (demand: 99/100)\n"
     ]
    }
   ],
   "source": [
    "print(\"\\nRoutes:\")\n",
    "for i, route in enumerate(routes):\n",
    "    route_demand = sum(cvrp_instance.demands[city] for city in route)\n",
    "    print(f\"Vehicle {i}: {route} (demand: {route_demand}/{capacity})\")"
   ]
  },
  {
   "cell_type": "code",
   "execution_count": null,
   "metadata": {},
   "outputs": [],
   "source": []
  },
  {
   "cell_type": "code",
   "execution_count": null,
   "metadata": {},
   "outputs": [],
   "source": []
  },
  {
   "cell_type": "code",
   "execution_count": null,
   "metadata": {},
   "outputs": [],
   "source": []
  }
 ],
 "metadata": {
  "kernelspec": {
   "display_name": "Python 3",
   "language": "python",
   "name": "python3"
  },
  "language_info": {
   "codemirror_mode": {
    "name": "ipython",
    "version": 3
   },
   "file_extension": ".py",
   "mimetype": "text/x-python",
   "name": "python",
   "nbconvert_exporter": "python",
   "pygments_lexer": "ipython3",
   "version": "3.11.1"
  }
 },
 "nbformat": 4,
 "nbformat_minor": 2
}
