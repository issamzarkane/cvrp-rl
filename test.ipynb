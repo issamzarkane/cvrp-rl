{
 "cells": [
  {
   "cell_type": "code",
   "execution_count": 1,
   "metadata": {},
   "outputs": [],
   "source": [
    "from cvrp import CVRP\n",
    "from state import State\n",
    "from action import Action\n",
    "from utils import transition, cost"
   ]
  },
  {
   "cell_type": "code",
   "execution_count": 2,
   "metadata": {},
   "outputs": [],
   "source": [
    "cities = [[0, 0], [1, 2], [3, 5], [6, 8]]  # Depot at [0,0], and three cities\n",
    "demands = [0, 2, 3, 1]  # Depot demand is 0, other cities have demand\n",
    "capacity = 5"
   ]
  },
  {
   "cell_type": "code",
   "execution_count": 3,
   "metadata": {},
   "outputs": [],
   "source": [
    "cvrp_instance = CVRP(cities=cities, demands=demands, capacity=capacity)\n",
    "initial_state = State(cvrp_instance)"
   ]
  },
  {
   "cell_type": "code",
   "execution_count": 4,
   "metadata": {},
   "outputs": [
    {
     "data": {
      "text/plain": [
       "array([[ 0.        ,  2.23606798,  5.83095189, 10.        ],\n",
       "       [ 2.23606798,  0.        ,  3.60555128,  7.81024968],\n",
       "       [ 5.83095189,  3.60555128,  0.        ,  4.24264069],\n",
       "       [10.        ,  7.81024968,  4.24264069,  0.        ]])"
      ]
     },
     "execution_count": 4,
     "metadata": {},
     "output_type": "execute_result"
    }
   ],
   "source": [
    "cvrp_instance.distance_matrix"
   ]
  },
  {
   "cell_type": "code",
   "execution_count": null,
   "metadata": {},
   "outputs": [],
   "source": [
    "action_generator = Action(cvrp_instance, initial_state)"
   ]
  },
  {
   "cell_type": "code",
   "execution_count": null,
   "metadata": {},
   "outputs": [],
   "source": [
    "feasible_actions = action_generator.get_all_actions()\n",
    "print(\"\\nFeasible Actions from Initial State:\")\n",
    "for route in feasible_actions:\n",
    "    print(route)"
   ]
  },
  {
   "cell_type": "code",
   "execution_count": null,
   "metadata": {},
   "outputs": [],
   "source": [
    "example_action = feasible_actions[0]  # Pick the first feasible action\n",
    "new_state = transition(initial_state, example_action)"
   ]
  },
  {
   "cell_type": "code",
   "execution_count": null,
   "metadata": {},
   "outputs": [],
   "source": [
    "if new_state:\n",
    "    print(\"\\nNew State (Visited Status):\", new_state.visited)\n",
    "    route_cost = cost(cvrp_instance, example_action)\n",
    "    print(f\"Cost of route {example_action}: {route_cost}\")\n",
    "else:\n",
    "    print(\"The chosen action revisits cities and is therefore invalid.\")"
   ]
  },
  {
   "cell_type": "code",
   "execution_count": null,
   "metadata": {},
   "outputs": [],
   "source": [
    "new_action_generator = Action(cvrp_instance, new_state)\n",
    "feasible_actions = new_action_generator.get_all_actions()\n",
    "print(\"\\nFeasible Actions from new State:\")\n",
    "for route in feasible_actions:\n",
    "    print(route)"
   ]
  },
  {
   "cell_type": "code",
   "execution_count": null,
   "metadata": {},
   "outputs": [],
   "source": [
    "example_action = feasible_actions[2]\n",
    "new_state = transition(new_state, example_action)\n",
    "if new_state:\n",
    "    print(\"\\nNew State (Visited Status):\", new_state.visited)\n",
    "    route_cost = cost(cvrp_instance, example_action)\n",
    "    print(f\"Cost of route {example_action}: {route_cost}\")\n",
    "else:\n",
    "    print(\"The chosen action revisits cities and is therefore invalid.\")"
   ]
  }
 ],
 "metadata": {
  "kernelspec": {
   "display_name": "Python 3",
   "language": "python",
   "name": "python3"
  },
  "language_info": {
   "codemirror_mode": {
    "name": "ipython",
    "version": 3
   },
   "file_extension": ".py",
   "mimetype": "text/x-python",
   "name": "python",
   "nbconvert_exporter": "python",
   "pygments_lexer": "ipython3",
   "version": "3.11.1"
  }
 },
 "nbformat": 4,
 "nbformat_minor": 2
}
