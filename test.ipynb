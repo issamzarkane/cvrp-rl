{
 "cells": [
  {
   "cell_type": "code",
   "execution_count": null,
   "metadata": {},
   "outputs": [],
   "source": [
    "!pip install importlib-metadata"
   ]
  },
  {
   "cell_type": "code",
   "execution_count": null,
   "metadata": {},
   "outputs": [],
   "source": [
    "from cvrp import CVRP\n",
    "from state import State\n",
    "from action import Action\n",
    "from utils import transition, cost"
   ]
  },
  {
   "cell_type": "code",
   "execution_count": null,
   "metadata": {},
   "outputs": [],
   "source": [
    "cities = [[0, 0], [1, 2], [3, 5], [6, 8]]  # Depot at [0,0], and three cities\n",
    "demands = [0, 2, 3, 1]  # Depot demand is 0, other cities have demand\n",
    "capacity = 5"
   ]
  },
  {
   "cell_type": "code",
   "execution_count": null,
   "metadata": {},
   "outputs": [],
   "source": [
    "cvrp_instance = CVRP(cities=cities, demands=demands, capacity=capacity)\n",
    "initial_state = State(cvrp_instance)"
   ]
  },
  {
   "cell_type": "code",
   "execution_count": null,
   "metadata": {},
   "outputs": [],
   "source": [
    "cvrp_instance.distance_matrix"
   ]
  },
  {
   "cell_type": "code",
   "execution_count": null,
   "metadata": {},
   "outputs": [],
   "source": [
    "action_generator = Action(cvrp_instance, initial_state)"
   ]
  },
  {
   "cell_type": "code",
   "execution_count": null,
   "metadata": {},
   "outputs": [],
   "source": [
    "feasible_actions = action_generator.get_all_actions()\n",
    "print(\"\\nFeasible Actions from Initial State:\")\n",
    "for route in feasible_actions:\n",
    "    print(route)"
   ]
  },
  {
   "cell_type": "code",
   "execution_count": null,
   "metadata": {},
   "outputs": [],
   "source": [
    "example_action = feasible_actions[0]  # Pick the first feasible action\n",
    "new_state = transition(initial_state, example_action)"
   ]
  },
  {
   "cell_type": "code",
   "execution_count": null,
   "metadata": {},
   "outputs": [],
   "source": [
    "if new_state:\n",
    "    print(\"\\nNew State (Visited Status):\", new_state.visited)\n",
    "    route_cost = cost(cvrp_instance, example_action)\n",
    "    print(f\"Cost of route {example_action}: {route_cost}\")\n",
    "else:\n",
    "    print(\"The chosen action revisits cities and is therefore invalid.\")"
   ]
  },
  {
   "cell_type": "code",
   "execution_count": null,
   "metadata": {},
   "outputs": [],
   "source": [
    "new_action_generator = Action(cvrp_instance, new_state)\n",
    "feasible_actions = new_action_generator.get_all_actions()\n",
    "print(\"\\nFeasible Actions from new State:\")\n",
    "for route in feasible_actions:\n",
    "    print(route)"
   ]
  },
  {
   "cell_type": "code",
   "execution_count": null,
   "metadata": {},
   "outputs": [],
   "source": [
    "example_action = feasible_actions[2]\n",
    "new_state = transition(new_state, example_action)\n",
    "if new_state:\n",
    "    print(\"\\nNew State (Visited Status):\", new_state.visited)\n",
    "    route_cost = cost(cvrp_instance, example_action)\n",
    "    print(f\"Cost of route {example_action}: {route_cost}\")\n",
    "else:\n",
    "    print(\"The chosen action revisits cities and is therefore invalid.\")"
   ]
  },
  {
   "cell_type": "code",
   "execution_count": null,
   "metadata": {},
   "outputs": [],
   "source": [
    "from policy import policy_evaluation_with_milp"
   ]
  },
  {
   "cell_type": "markdown",
   "metadata": {},
   "source": [
    "## Test 2"
   ]
  },
  {
   "cell_type": "code",
   "execution_count": null,
   "metadata": {},
   "outputs": [],
   "source": [
    "cities = [(2, 3), (5, 8), (1, 9), (7, 3)]\n",
    "demands = [0, 2, 3, 4, 5]\n",
    "capacity = 10\n",
    "cvrp_instance = CVRP(cities=[(0, 0)] + cities, demands=demands, capacity=capacity)\n"
   ]
  },
  {
   "cell_type": "code",
   "execution_count": null,
   "metadata": {},
   "outputs": [],
   "source": [
    "initial_state = State(cvrp_instance)\n",
    "print(\"Initial State (visited):\", initial_state.visited)\n"
   ]
  },
  {
   "cell_type": "code",
   "execution_count": null,
   "metadata": {},
   "outputs": [],
   "source": [
    "action_generator = Action(cvrp_instance, initial_state)\n",
    "feasible_actions = action_generator.get_all_actions()\n",
    "print(\"Feasible Actions:\", feasible_actions)"
   ]
  },
  {
   "cell_type": "code",
   "execution_count": null,
   "metadata": {},
   "outputs": [],
   "source": [
    "from policy import ValueNetwork\n",
    "from utils import solve_milp_with_value_function"
   ]
  },
  {
   "cell_type": "code",
   "execution_count": null,
   "metadata": {},
   "outputs": [],
   "source": [
    "value_network = ValueNetwork(input_size=len(initial_state.encode_state()), hidden_dim=16)\n",
    "route = solve_milp_with_value_function(cvrp_instance, initial_state, value_network)\n",
    "print(\"MILP Optimal Route:\", route)"
   ]
  },
  {
   "cell_type": "markdown",
   "metadata": {},
   "source": [
    "## Testing OR-tools\n"
   ]
  },
  {
   "cell_type": "code",
   "execution_count": null,
   "metadata": {},
   "outputs": [],
   "source": [
    "from cvrp import CVRP\n",
    "from ORtools import ORToolsSolver\n",
    "from parser import parse_cvrplib"
   ]
  },
  {
   "cell_type": "code",
   "execution_count": null,
   "metadata": {},
   "outputs": [],
   "source": [
    "file_path = \"C:/Users/issam/OneDrive/Desktop/phd/Vrp-Set-A/A/A-n32-k5.vrp\"\n",
    "depot, cities, demands, capacity, num_vehicles = parse_cvrplib(file_path)"
   ]
  },
  {
   "cell_type": "code",
   "execution_count": null,
   "metadata": {},
   "outputs": [],
   "source": [
    "cvrp_instance = CVRP(cities=[cities[depot]] + cities, demands=[0] + demands, capacity=capacity, num_vehicles=num_vehicles ,depot_index=0)"
   ]
  },
  {
   "cell_type": "code",
   "execution_count": null,
   "metadata": {},
   "outputs": [],
   "source": [
    "ortools_solver = ORToolsSolver(cvrp_instance)\n",
    "solution, total_cost = ortools_solver.solve()"
   ]
  },
  {
   "cell_type": "code",
   "execution_count": null,
   "metadata": {},
   "outputs": [],
   "source": [
    "total_cost "
   ]
  },
  {
   "cell_type": "code",
   "execution_count": null,
   "metadata": {},
   "outputs": [],
   "source": [
    "obj = sum(cvrp_instance.distance_matrix[i][j] * x[v,i,j]\n",
    "        for v in range(cvrp_instance.num_vehicles)\n",
    "        for i in range(n)\n",
    "        for j in range(n) if i != j)\n",
    "import matplotlib.pyplot as plt\n",
    "import numpy as np\n",
    "\n",
    "# Extract coordinates and routes\n",
    "routes = ortools_solver.get_solution_routes(solution)\n",
    "\n",
    "# Plot setup\n",
    "plt.figure(figsize=(12, 8))\n",
    "\n",
    "# Plot all cities\n",
    "x_coords = [city[0] for city in cvrp_instance.cities]\n",
    "y_coords = [city[1] for city in cvrp_instance.cities]\n",
    "plt.scatter(x_coords, y_coords, c='blue', s=50, label='Cities')\n",
    "\n",
    "# Plot depot\n",
    "plt.scatter(x_coords[0], y_coords[0], c='red', s=100, marker='*', label='Depot')\n",
    "\n",
    "# Plot routes with different colors for each vehicle\n",
    "colors = ['g', 'r', 'c', 'm', 'y']\n",
    "for vehicle_id, route in enumerate(routes):\n",
    "    route_coords = [(x_coords[i], y_coords[i]) for i in route]\n",
    "    route_x = [x for x, y in route_coords]\n",
    "    route_y = [y for x, y in route_coords]\n",
    "    plt.plot(route_x, route_y, c=colors[vehicle_id], linewidth=2, label=f'Vehicle {vehicle_id}')\n",
    "\n",
    "plt.title('CVRP Solution Visualization')\n",
    "plt.xlabel('X Coordinate')\n",
    "plt.ylabel('Y Coordinate')\n",
    "plt.legend()\n",
    "plt.grid(True)\n",
    "plt.show()\n"
   ]
  },
  {
   "cell_type": "markdown",
   "metadata": {},
   "source": [
    "## Testing the model on the instance A-n32-k5.vrp"
   ]
  },
  {
   "cell_type": "code",
   "execution_count": 1,
   "metadata": {},
   "outputs": [],
   "source": [
    "import torch\n",
    "from parser import parse_cvrplib\n",
    "from cvrp import CVRP\n",
    "from state import State\n",
    "from policy import ValueNetwork, Policy"
   ]
  },
  {
   "cell_type": "code",
   "execution_count": 2,
   "metadata": {},
   "outputs": [],
   "source": [
    "# Parse the provided instance\n",
    "instance_path = r\"C:\\Users\\issam\\OneDrive\\Desktop\\phd\\Vrp-Set-A\\A\\A-n32-k5.vrp\"\n",
    "depot, cities, demands, capacity, num_vehicles = parse_cvrplib(instance_path)"
   ]
  },
  {
   "cell_type": "code",
   "execution_count": 3,
   "metadata": {},
   "outputs": [],
   "source": [
    "# Create a CVRP instance\n",
    "cvrp_instance = CVRP(cities=[cities[depot]] + cities, \n",
    "                      demands=[0] + demands, \n",
    "                      capacity=capacity,\n",
    "                      num_vehicles=num_vehicles, \n",
    "                      depot_index=0)"
   ]
  },
  {
   "cell_type": "code",
   "execution_count": 4,
   "metadata": {},
   "outputs": [],
   "source": [
    "# Initialize State\n",
    "initial_state = State(cvrp_instance)\n",
    "encoded_state = initial_state.encode_state()"
   ]
  },
  {
   "cell_type": "code",
   "execution_count": 5,
   "metadata": {},
   "outputs": [],
   "source": [
    "# Value Network\n",
    "input_dim = len(encoded_state)  # Input dimension based on state encoding\n",
    "hidden_dim = 16  # Example hidden dimension\n",
    "value_network = ValueNetwork(input_size=input_dim, hidden_dim=hidden_dim)\n",
    "# Create the policy\n",
    "policy = Policy(cvrp_instance, initial_state, value_network, gamma=0.9)"
   ]
  },
  {
   "cell_type": "code",
   "execution_count": 6,
   "metadata": {},
   "outputs": [
    {
     "name": "stdout",
     "output_type": "stream",
     "text": [
      "Solver status: timelimit\n",
      "Total cost of the solution: None\n"
     ]
    }
   ],
   "source": [
    "# Perform policy evaluation using MILP\n",
    "total_cost, next_state = policy.solve_with_pure_milp(cvrp_instance, initial_state)\n",
    "\n",
    "print(f\"Total cost of the solution: {total_cost}\")\n"
   ]
  },
  {
   "cell_type": "code",
   "execution_count": null,
   "metadata": {},
   "outputs": [],
   "source": [
    "optimizer = torch.optim.Adam(value_network.parameters(), lr=0.001)\n",
    "\n",
    "# Run a few policy iterations\n",
    "for iteration in range(5):\n",
    "    print(f\"Policy Iteration {iteration + 1}\")\n",
    "    total_cost, next_state = policy.policy_evaluation(optimizer)\n",
    "    print(f\"Iteration {iteration + 1}, Total Cost: {total_cost}\")\n"
   ]
  },
  {
   "cell_type": "code",
   "execution_count": null,
   "metadata": {},
   "outputs": [],
   "source": [
    "from ORtools import ORToolsSolver\n",
    "\n",
    "# Solve using OR-Tools\n",
    "ortools_solver = ORToolsSolver(cvrp_instance)\n",
    "solution, ortools_cost = ortools_solver.solve()\n",
    "\n",
    "print(f\"OR-Tools Cost: {ortools_cost}\")\n",
    "print(f\"Model Cost: {total_cost}\")\n",
    "print(f\"Gap to OR-Tools: {abs(total_cost - ortools_cost) / ortools_cost * 100:.2f}%\")\n"
   ]
  },
  {
   "cell_type": "code",
   "execution_count": null,
   "metadata": {},
   "outputs": [],
   "source": []
  }
 ],
 "metadata": {
  "kernelspec": {
   "display_name": "Python 3",
   "language": "python",
   "name": "python3"
  },
  "language_info": {
   "codemirror_mode": {
    "name": "ipython",
    "version": 3
   },
   "file_extension": ".py",
   "mimetype": "text/x-python",
   "name": "python",
   "nbconvert_exporter": "python",
   "pygments_lexer": "ipython3",
   "version": "3.11.1"
  }
 },
 "nbformat": 4,
 "nbformat_minor": 2
}
