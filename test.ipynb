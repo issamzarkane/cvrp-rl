{
 "cells": [
  {
   "cell_type": "code",
   "execution_count": 1,
   "metadata": {},
   "outputs": [],
   "source": [
    "from cvrp import CVRP\n",
    "from state import State\n",
    "from action import Action\n",
    "from utils import transition, cost"
   ]
  },
  {
   "cell_type": "code",
   "execution_count": 2,
   "metadata": {},
   "outputs": [],
   "source": [
    "cities = [[0, 0], [1, 2], [3, 5], [6, 8]]  # Depot at [0,0], and three cities\n",
    "demands = [0, 2, 3, 1]  # Depot demand is 0, other cities have demand\n",
    "capacity = 5"
   ]
  },
  {
   "cell_type": "code",
   "execution_count": 3,
   "metadata": {},
   "outputs": [],
   "source": [
    "cvrp_instance = CVRP(cities=cities, demands=demands, capacity=capacity)\n",
    "initial_state = State(cvrp_instance)"
   ]
  },
  {
   "cell_type": "code",
   "execution_count": 4,
   "metadata": {},
   "outputs": [],
   "source": [
    "action_generator = Action(cvrp_instance, initial_state)"
   ]
  },
  {
   "cell_type": "code",
   "execution_count": 5,
   "metadata": {},
   "outputs": [
    {
     "name": "stdout",
     "output_type": "stream",
     "text": [
      "\n",
      "Feasible Actions from Initial State:\n",
      "(0, 1, 0)\n",
      "(0, 2, 0)\n",
      "(0, 3, 0)\n",
      "(0, 1, 2, 0)\n",
      "(0, 1, 3, 0)\n",
      "(0, 2, 1, 0)\n",
      "(0, 2, 3, 0)\n",
      "(0, 3, 1, 0)\n",
      "(0, 3, 2, 0)\n"
     ]
    }
   ],
   "source": [
    "feasible_actions = action_generator.get_all_actions()\n",
    "print(\"\\nFeasible Actions from Initial State:\")\n",
    "for route in feasible_actions:\n",
    "    print(route)"
   ]
  },
  {
   "cell_type": "code",
   "execution_count": 6,
   "metadata": {},
   "outputs": [],
   "source": [
    "example_action = feasible_actions[0]  # Pick the first feasible action\n",
    "new_state = transition(initial_state, example_action)"
   ]
  },
  {
   "cell_type": "code",
   "execution_count": 7,
   "metadata": {},
   "outputs": [
    {
     "name": "stdout",
     "output_type": "stream",
     "text": [
      "\n",
      "New State (Visited Status): [1, 0, 1, 1]\n",
      "Cost of route (0, 1, 0): 4.47213595499958\n"
     ]
    }
   ],
   "source": [
    "if new_state:\n",
    "    print(\"\\nNew State (Visited Status):\", new_state.visited)\n",
    "    route_cost = cost(cvrp_instance, example_action)\n",
    "    print(f\"Cost of route {example_action}: {route_cost}\")\n",
    "else:\n",
    "    print(\"The chosen action revisits cities and is therefore invalid.\")"
   ]
  },
  {
   "cell_type": "code",
   "execution_count": 9,
   "metadata": {},
   "outputs": [
    {
     "name": "stdout",
     "output_type": "stream",
     "text": [
      "\n",
      "Feasible Actions from new State:\n",
      "(0, 2, 0)\n",
      "(0, 3, 0)\n",
      "(0, 2, 3, 0)\n",
      "(0, 3, 2, 0)\n"
     ]
    }
   ],
   "source": [
    "new_action_generator = Action(cvrp_instance, new_state)\n",
    "feasible_actions = new_action_generator.get_all_actions()\n",
    "print(\"\\nFeasible Actions from new State:\")\n",
    "for route in feasible_actions:\n",
    "    print(route)"
   ]
  },
  {
   "cell_type": "code",
   "execution_count": 10,
   "metadata": {},
   "outputs": [
    {
     "name": "stdout",
     "output_type": "stream",
     "text": [
      "\n",
      "New State (Visited Status): [1, 0, 0, 0]\n",
      "Cost of route (0, 2, 3, 0): 20.073592581964586\n"
     ]
    }
   ],
   "source": [
    "example_action = feasible_actions[2]\n",
    "new_state = transition(new_state, example_action)\n",
    "if new_state:\n",
    "    print(\"\\nNew State (Visited Status):\", new_state.visited)\n",
    "    route_cost = cost(cvrp_instance, example_action)\n",
    "    print(f\"Cost of route {example_action}: {route_cost}\")\n",
    "else:\n",
    "    print(\"The chosen action revisits cities and is therefore invalid.\")"
   ]
  }
 ],
 "metadata": {
  "kernelspec": {
   "display_name": "Python 3",
   "language": "python",
   "name": "python3"
  },
  "language_info": {
   "codemirror_mode": {
    "name": "ipython",
    "version": 3
   },
   "file_extension": ".py",
   "mimetype": "text/x-python",
   "name": "python",
   "nbconvert_exporter": "python",
   "pygments_lexer": "ipython3",
   "version": "3.11.1"
  }
 },
 "nbformat": 4,
 "nbformat_minor": 2
}
