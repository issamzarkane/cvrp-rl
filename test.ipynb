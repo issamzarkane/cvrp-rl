{
 "cells": [
  {
   "cell_type": "code",
   "execution_count": null,
   "metadata": {},
   "outputs": [],
   "source": [
    "!pip install importlib-metadata"
   ]
  },
  {
   "cell_type": "code",
   "execution_count": 1,
   "metadata": {},
   "outputs": [],
   "source": [
    "from cvrp import CVRP\n",
    "from state import State\n",
    "from action import Action\n",
    "from utils import transition, cost"
   ]
  },
  {
   "cell_type": "code",
   "execution_count": null,
   "metadata": {},
   "outputs": [],
   "source": [
    "cities = [[0, 0], [1, 2], [3, 5], [6, 8]]  # Depot at [0,0], and three cities\n",
    "demands = [0, 2, 3, 1]  # Depot demand is 0, other cities have demand\n",
    "capacity = 5"
   ]
  },
  {
   "cell_type": "code",
   "execution_count": null,
   "metadata": {},
   "outputs": [],
   "source": [
    "cvrp_instance = CVRP(cities=cities, demands=demands, capacity=capacity)\n",
    "initial_state = State(cvrp_instance)"
   ]
  },
  {
   "cell_type": "code",
   "execution_count": null,
   "metadata": {},
   "outputs": [],
   "source": [
    "cvrp_instance.distance_matrix"
   ]
  },
  {
   "cell_type": "code",
   "execution_count": null,
   "metadata": {},
   "outputs": [],
   "source": [
    "action_generator = Action(cvrp_instance, initial_state)"
   ]
  },
  {
   "cell_type": "code",
   "execution_count": null,
   "metadata": {},
   "outputs": [],
   "source": [
    "feasible_actions = action_generator.get_all_actions()\n",
    "print(\"\\nFeasible Actions from Initial State:\")\n",
    "for route in feasible_actions:\n",
    "    print(route)"
   ]
  },
  {
   "cell_type": "code",
   "execution_count": null,
   "metadata": {},
   "outputs": [],
   "source": [
    "example_action = feasible_actions[0]  # Pick the first feasible action\n",
    "new_state = transition(initial_state, example_action)"
   ]
  },
  {
   "cell_type": "code",
   "execution_count": null,
   "metadata": {},
   "outputs": [],
   "source": [
    "if new_state:\n",
    "    print(\"\\nNew State (Visited Status):\", new_state.visited)\n",
    "    route_cost = cost(cvrp_instance, example_action)\n",
    "    print(f\"Cost of route {example_action}: {route_cost}\")\n",
    "else:\n",
    "    print(\"The chosen action revisits cities and is therefore invalid.\")"
   ]
  },
  {
   "cell_type": "code",
   "execution_count": null,
   "metadata": {},
   "outputs": [],
   "source": [
    "new_action_generator = Action(cvrp_instance, new_state)\n",
    "feasible_actions = new_action_generator.get_all_actions()\n",
    "print(\"\\nFeasible Actions from new State:\")\n",
    "for route in feasible_actions:\n",
    "    print(route)"
   ]
  },
  {
   "cell_type": "code",
   "execution_count": null,
   "metadata": {},
   "outputs": [],
   "source": [
    "example_action = feasible_actions[2]\n",
    "new_state = transition(new_state, example_action)\n",
    "if new_state:\n",
    "    print(\"\\nNew State (Visited Status):\", new_state.visited)\n",
    "    route_cost = cost(cvrp_instance, example_action)\n",
    "    print(f\"Cost of route {example_action}: {route_cost}\")\n",
    "else:\n",
    "    print(\"The chosen action revisits cities and is therefore invalid.\")"
   ]
  },
  {
   "cell_type": "code",
   "execution_count": 2,
   "metadata": {},
   "outputs": [],
   "source": [
    "from policy import policy_evaluation_with_milp"
   ]
  },
  {
   "cell_type": "markdown",
   "metadata": {},
   "source": [
    "## Test 2"
   ]
  },
  {
   "cell_type": "code",
   "execution_count": 3,
   "metadata": {},
   "outputs": [],
   "source": [
    "cities = [(2, 3), (5, 8), (1, 9), (7, 3)]\n",
    "demands = [0, 2, 3, 4, 5]\n",
    "capacity = 10\n",
    "cvrp_instance = CVRP(cities=[(0, 0)] + cities, demands=demands, capacity=capacity)\n"
   ]
  },
  {
   "cell_type": "code",
   "execution_count": 4,
   "metadata": {},
   "outputs": [
    {
     "name": "stdout",
     "output_type": "stream",
     "text": [
      "Initial State (visited): [1, 1, 1, 1, 1]\n"
     ]
    }
   ],
   "source": [
    "initial_state = State(cvrp_instance)\n",
    "print(\"Initial State (visited):\", initial_state.visited)\n"
   ]
  },
  {
   "cell_type": "code",
   "execution_count": 5,
   "metadata": {},
   "outputs": [
    {
     "name": "stdout",
     "output_type": "stream",
     "text": [
      "Feasible Actions: [(0, 1, 0), (0, 2, 0), (0, 3, 0), (0, 4, 0), (0, 1, 2, 0), (0, 1, 3, 0), (0, 1, 4, 0), (0, 2, 1, 0), (0, 2, 3, 0), (0, 2, 4, 0), (0, 3, 1, 0), (0, 3, 2, 0), (0, 3, 4, 0), (0, 4, 1, 0), (0, 4, 2, 0), (0, 4, 3, 0), (0, 1, 2, 3, 0), (0, 1, 2, 4, 0), (0, 1, 3, 2, 0), (0, 1, 4, 2, 0), (0, 2, 1, 3, 0), (0, 2, 1, 4, 0), (0, 2, 3, 1, 0), (0, 2, 4, 1, 0), (0, 3, 1, 2, 0), (0, 3, 2, 1, 0), (0, 4, 1, 2, 0), (0, 4, 2, 1, 0)]\n"
     ]
    }
   ],
   "source": [
    "action_generator = Action(cvrp_instance, initial_state)\n",
    "feasible_actions = action_generator.get_all_actions()\n",
    "print(\"Feasible Actions:\", feasible_actions)"
   ]
  },
  {
   "cell_type": "code",
   "execution_count": 6,
   "metadata": {},
   "outputs": [],
   "source": [
    "from policy import ValueNetwork\n",
    "from utils import solve_milp_with_value_function"
   ]
  },
  {
   "cell_type": "code",
   "execution_count": 7,
   "metadata": {},
   "outputs": [
    {
     "name": "stdout",
     "output_type": "stream",
     "text": [
      "MILP Optimal Route: [0, 4, 2, 3, 1, 0]\n"
     ]
    }
   ],
   "source": [
    "value_network = ValueNetwork(input_size=len(initial_state.encode_state()), hidden_dim=16)\n",
    "route = solve_milp_with_value_function(cvrp_instance, initial_state, value_network)\n",
    "print(\"MILP Optimal Route:\", route)"
   ]
  }
 ],
 "metadata": {
  "kernelspec": {
   "display_name": "Python 3",
   "language": "python",
   "name": "python3"
  },
  "language_info": {
   "codemirror_mode": {
    "name": "ipython",
    "version": 3
   },
   "file_extension": ".py",
   "mimetype": "text/x-python",
   "name": "python",
   "nbconvert_exporter": "python",
   "pygments_lexer": "ipython3",
   "version": "3.11.1"
  }
 },
 "nbformat": 4,
 "nbformat_minor": 2
}
